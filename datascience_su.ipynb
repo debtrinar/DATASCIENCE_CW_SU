{
 "cells": [
  {
   "cell_type": "code",
   "execution_count": 10,
   "id": "cb2da340-ce2c-4e89-9e5d-0e8238659b96",
   "metadata": {},
   "outputs": [
    {
     "name": "stdin",
     "output_type": "stream",
     "text": [
      "Enter your budget: 50000\n"
     ]
    },
    {
     "name": "stdout",
     "output_type": "stream",
     "text": [
      "You can buy the mobile\n"
     ]
    }
   ],
   "source": [
    "budget=int(input(\"Enter your budget:\"))\n",
    "mobile=30000\n",
    "if budget>=mobile:\n",
    "    print(\"You can buy the mobile\")\n",
    "else:\n",
    "    print(\"You cannot buy the mobile\")"
   ]
  },
  {
   "cell_type": "code",
   "execution_count": 11,
   "id": "1f2605af-40ec-4d4c-9c7b-6c428b644245",
   "metadata": {},
   "outputs": [
    {
     "name": "stdin",
     "output_type": "stream",
     "text": [
      "Enter the storage: 32\n"
     ]
    },
    {
     "name": "stdout",
     "output_type": "stream",
     "text": [
      "15000\n"
     ]
    }
   ],
   "source": [
    "storage=int(input(\"Enter the storage:\"))\n",
    "if storage==32:\n",
    "    print(\"15000\")\n",
    "elif storage==64:\n",
    "    print(20000)\n",
    "elif storage==128:\n",
    "    print(30000)\n",
    "elif storage==256:\n",
    "    print(40000)\n",
    "else:\n",
    "    print(\"NA\")"
   ]
  },
  {
   "cell_type": "code",
   "execution_count": 8,
   "id": "9a2f10be-3491-4935-b6a6-23183d5a6c74",
   "metadata": {},
   "outputs": [
    {
     "name": "stdout",
     "output_type": "stream",
     "text": [
      "12\n",
      "61\n",
      "49\n",
      "-61\n",
      "-14\n"
     ]
    }
   ],
   "source": [
    "a=60\n",
    "b=13\n",
    "print(a & b)\n",
    "print(a|b)\n",
    "print(a^b)\n",
    "print(~a)\n",
    "print(~b)"
   ]
  },
  {
   "cell_type": "code",
   "execution_count": 17,
   "id": "ce2d97a1-81fe-4a6e-9c92-6a99ee763783",
   "metadata": {},
   "outputs": [
    {
     "name": "stdin",
     "output_type": "stream",
     "text": [
      "Enter your round 1 marks: 80\n"
     ]
    },
    {
     "name": "stdout",
     "output_type": "stream",
     "text": [
      "You are eligible for second round\n"
     ]
    },
    {
     "name": "stdin",
     "output_type": "stream",
     "text": [
      "Enter your round 2 marks: 70\n"
     ]
    },
    {
     "name": "stdout",
     "output_type": "stream",
     "text": [
      "You are eligible for third round\n"
     ]
    },
    {
     "name": "stdin",
     "output_type": "stream",
     "text": [
      "Enter your round 3 marks: 60\n"
     ]
    },
    {
     "name": "stdout",
     "output_type": "stream",
     "text": [
      "You are SELECTED\n"
     ]
    }
   ],
   "source": [
    "round1=int(input(\"Enter your round 1 marks:\"))\n",
    "if round1>=80:\n",
    "    print(\"You are eligible for second round\")\n",
    "else:\n",
    "    print(\"You failed\")\n",
    "    exit(1)\n",
    "round2=int(input(\"Enter your round 2 marks:\"))\n",
    "if round2>=70:\n",
    "    print(\"You are eligible for third round\")\n",
    "else:\n",
    "    print(\"You failed\")\n",
    "    exit(1)\n",
    "round3=int(input(\"Enter your round 3 marks:\"))\n",
    "if round3>=60:\n",
    "    print(\"You are SELECTED\")\n",
    "else:\n",
    "    print(\"You are REJECTED\")"
   ]
  },
  {
   "cell_type": "code",
   "execution_count": 18,
   "id": "97acb605-ff47-4587-a1d5-933e62f45380",
   "metadata": {},
   "outputs": [
    {
     "name": "stdin",
     "output_type": "stream",
     "text": [
      "Enter student marks:  80\n"
     ]
    },
    {
     "name": "stdout",
     "output_type": "stream",
     "text": [
      "Student belongs to: Group1\n"
     ]
    }
   ],
   "source": [
    "def student_group(marks):\n",
    "    if marks >= 80:\n",
    "        return \"Group1\"\n",
    "    elif 60 <= marks < 80:\n",
    "        return \"Group2\"\n",
    "    elif 40 <= marks < 60:\n",
    "        return \"Group3\"\n",
    "    else:\n",
    "        return \"No Group\"\n",
    "\n",
    "# Example usage\n",
    "marks = int(input(\"Enter student marks: \"))\n",
    "print(\"Student belongs to:\", student_group(marks))"
   ]
  },
  {
   "cell_type": "code",
   "execution_count": 19,
   "id": "a12cc082-ab13-46a2-933b-389f9481909f",
   "metadata": {},
   "outputs": [
    {
     "name": "stdin",
     "output_type": "stream",
     "text": [
      "Enter username:  admin\n",
      "Enter password:  12345\n"
     ]
    },
    {
     "name": "stdout",
     "output_type": "stream",
     "text": [
      "Login successful\n"
     ]
    }
   ],
   "source": [
    "# Nested Login System\n",
    "username = input(\"Enter username: \")\n",
    "\n",
    "if username == \"admin\":\n",
    "    password = input(\"Enter password: \")\n",
    "    \n",
    "    if password == \"12345\":\n",
    "        print(\"Login successful\")\n",
    "    else:\n",
    "        print(\"Incorrect password\")\n",
    "else:\n",
    "    print(\"Incorrect username\")"
   ]
  }
 ],
 "metadata": {
  "kernelspec": {
   "display_name": "Python 3 (ipykernel)",
   "language": "python",
   "name": "python3"
  },
  "language_info": {
   "codemirror_mode": {
    "name": "ipython",
    "version": 3
   },
   "file_extension": ".py",
   "mimetype": "text/x-python",
   "name": "python",
   "nbconvert_exporter": "python",
   "pygments_lexer": "ipython3",
   "version": "3.12.6"
  }
 },
 "nbformat": 4,
 "nbformat_minor": 5
}
