{
 "cells": [
  {
   "cell_type": "code",
   "execution_count": 1,
   "id": "0d5c3567-b068-402b-867a-581a25c4774e",
   "metadata": {},
   "outputs": [
    {
     "data": {
      "text/plain": [
       "array([ 6,  8, 10, 12])"
      ]
     },
     "execution_count": 1,
     "metadata": {},
     "output_type": "execute_result"
    }
   ],
   "source": [
    "import numpy as np\n",
    "list1=[1,2,3,4]\n",
    "list2=[5,6,7,8]\n",
    "np.array(list1)+np.array(list2)"
   ]
  },
  {
   "cell_type": "code",
   "execution_count": 6,
   "id": "971c82ed-7ac5-477d-8669-b234bbb4f828",
   "metadata": {},
   "outputs": [
    {
     "name": "stdout",
     "output_type": "stream",
     "text": [
      "[0]\n"
     ]
    }
   ],
   "source": [
    "arr2=np.arange(0,10,13)\n",
    "print(arr2)"
   ]
  },
  {
   "cell_type": "code",
   "execution_count": 7,
   "id": "50696364-5d00-4fe7-b5d0-24c7324998b3",
   "metadata": {},
   "outputs": [
    {
     "name": "stdout",
     "output_type": "stream",
     "text": [
      "[ 0.          0.83333333  1.66666667  2.5         3.33333333  4.16666667\n",
      "  5.          5.83333333  6.66666667  7.5         8.33333333  9.16666667\n",
      " 10.        ]\n"
     ]
    }
   ],
   "source": [
    "arr2=np.linspace(0,10,13)\n",
    "print(arr2)"
   ]
  },
  {
   "cell_type": "code",
   "execution_count": 16,
   "id": "4b4f11be-c2d6-4d4c-a37b-87cb7d0ab9f8",
   "metadata": {},
   "outputs": [
    {
     "name": "stdout",
     "output_type": "stream",
     "text": [
      "[[ 0  1  2  3  4]\n",
      " [ 5  6  7  8  9]\n",
      " [10 11 12 13 14]\n",
      " [15 16 17 18 19]]\n"
     ]
    }
   ],
   "source": [
    "arr=np.arange(20)\n",
    "re_arr=arr.reshape(4,5)\n",
    "print(re_arr)"
   ]
  },
  {
   "cell_type": "code",
   "execution_count": 6,
   "id": "2f082a27-8ad3-4a25-9ba7-d2b35baa806c",
   "metadata": {},
   "outputs": [
    {
     "name": "stdout",
     "output_type": "stream",
     "text": [
      "[[0 1 2]\n",
      " [3 4 5]\n",
      " [6 7 8]]\n"
     ]
    }
   ],
   "source": [
    "import numpy as np\n",
    "arr=np.arange(9).reshape(3,3)\n",
    "print(arr)"
   ]
  },
  {
   "cell_type": "code",
   "execution_count": 7,
   "id": "5f02db33-f43f-4976-80c9-ea61c57537a1",
   "metadata": {},
   "outputs": [
    {
     "name": "stdout",
     "output_type": "stream",
     "text": [
      "-0.7568024953079282\n"
     ]
    }
   ],
   "source": [
    "print(np.sin(4))"
   ]
  },
  {
   "cell_type": "code",
   "execution_count": 8,
   "id": "0409c940-532d-4951-92b4-7b66fd52093a",
   "metadata": {},
   "outputs": [
    {
     "name": "stdout",
     "output_type": "stream",
     "text": [
      "[ 7  9 11 13]\n",
      "[-5 -5 -5 -5]\n",
      "[ 6 14 24 36]\n",
      "[6.         3.5        2.66666667 2.25      ]\n",
      "[1.         0.5        0.33333333 0.25      ]\n",
      "[     1    128   6561 262144]\n"
     ]
    }
   ],
   "source": [
    "arr1=np.arange(1,5)\n",
    "arr2=np.arange(6,10)\n",
    "print(arr1+arr2)\n",
    "print(arr1-arr2)\n",
    "print(arr1*arr2)\n",
    "print(arr2/arr1)\n",
    "print(1/arr1)\n",
    "print(arr1**arr2)"
   ]
  },
  {
   "cell_type": "code",
   "execution_count": 10,
   "id": "e11fffc3-15e7-4448-9818-29390c0d3ecc",
   "metadata": {},
   "outputs": [
    {
     "data": {
      "text/plain": [
       "array([[ 150,  160,  170,  180,  190],\n",
       "       [ 400,  435,  470,  505,  540],\n",
       "       [ 650,  710,  770,  830,  890],\n",
       "       [ 900,  985, 1070, 1155, 1240],\n",
       "       [1150, 1260, 1370, 1480, 1590]])"
      ]
     },
     "execution_count": 10,
     "metadata": {},
     "output_type": "execute_result"
    }
   ],
   "source": [
    "matrix1=np.arange(25).reshape(5,5)\n",
    "matrix2=np.arange(25).reshape(5,5)\n",
    "np.dot(matrix1,matrix2)"
   ]
  },
  {
   "cell_type": "code",
   "execution_count": 12,
   "id": "32c85996-c9fa-4527-838e-8c54d2ea9edb",
   "metadata": {},
   "outputs": [
    {
     "name": "stdout",
     "output_type": "stream",
     "text": [
      "[[ 0  1  2  3  4]\n",
      " [ 5  6  7  8  9]\n",
      " [10 11 12 13 14]\n",
      " [15 16 17 18 19]\n",
      " [20 21 22 23 24]]\n"
     ]
    },
    {
     "data": {
      "text/plain": [
       "array([[ 150,  160,  170,  180,  190],\n",
       "       [ 400,  435,  470,  505,  540],\n",
       "       [ 650,  710,  770,  830,  890],\n",
       "       [ 900,  985, 1070, 1155, 1240],\n",
       "       [1150, 1260, 1370, 1480, 1590]])"
      ]
     },
     "execution_count": 12,
     "metadata": {},
     "output_type": "execute_result"
    }
   ],
   "source": [
    "np.transpose(matrix1)\n",
    "print(matrix1)\n",
    "np.dot(matrix1,matrix2)"
   ]
  }
 ],
 "metadata": {
  "kernelspec": {
   "display_name": "Python 3 (ipykernel)",
   "language": "python",
   "name": "python3"
  },
  "language_info": {
   "codemirror_mode": {
    "name": "ipython",
    "version": 3
   },
   "file_extension": ".py",
   "mimetype": "text/x-python",
   "name": "python",
   "nbconvert_exporter": "python",
   "pygments_lexer": "ipython3",
   "version": "3.12.6"
  }
 },
 "nbformat": 4,
 "nbformat_minor": 5
}
