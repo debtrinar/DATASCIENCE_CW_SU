{
 "cells": [
  {
   "cell_type": "code",
   "execution_count": 1,
   "id": "c18b6072-1405-4125-b20b-aa83c6b2e774",
   "metadata": {},
   "outputs": [
    {
     "name": "stdout",
     "output_type": "stream",
     "text": [
      "215\n"
     ]
    }
   ],
   "source": [
    "#Q1 Finding the sum of numbers in a list using while loop\n",
    "l=[12,35,67,78,23]\n",
    "sums=0\n",
    "i=0\n",
    "while i < len(l):\n",
    "    sums+=l[i]\n",
    "    i+=1\n",
    "print(sums)"
   ]
  },
  {
   "cell_type": "code",
   "execution_count": 2,
   "id": "5204843a-b74d-4a38-aa7e-cedc4f51919a",
   "metadata": {},
   "outputs": [
    {
     "name": "stdout",
     "output_type": "stream",
     "text": [
      "0\n",
      "1\n",
      "4\n",
      "9\n",
      "16\n",
      "25\n",
      "36\n",
      "49\n",
      "64\n",
      "81\n",
      "100\n"
     ]
    }
   ],
   "source": [
    "#Q2 Printing the square of numbers using while loop\n",
    "i=0\n",
    "while i<=10:\n",
    "    print(i*i)\n",
    "    i+=1"
   ]
  },
  {
   "cell_type": "code",
   "execution_count": 1,
   "id": "f47ecd00-9e30-4b50-b462-5cad07d3800a",
   "metadata": {},
   "outputs": [
    {
     "name": "stdout",
     "output_type": "stream",
     "text": [
      "30\n"
     ]
    }
   ],
   "source": [
    "#Q3 Finding the sum of even numbers using while loop\n",
    "i=0\n",
    "sums=0\n",
    "while i<=10:\n",
    "    if i%2==0:\n",
    "        sums+=i   \n",
    "    i+=1\n",
    "print(sums)"
   ]
  },
  {
   "cell_type": "code",
   "execution_count": 9,
   "id": "f3543f33-1f74-469c-922d-1803fb369873",
   "metadata": {},
   "outputs": [
    {
     "name": "stdin",
     "output_type": "stream",
     "text": [
      " geeta\n"
     ]
    },
    {
     "name": "stdout",
     "output_type": "stream",
     "text": [
      "3\n"
     ]
    }
   ],
   "source": [
    "l=['a','e','i','o','u','A','E', 'I','O','U']\n",
    "string=input()\n",
    "count=0\n",
    "for i in string:\n",
    "    if i in l:\n",
    "        count+=1\n",
    "print(count)"
   ]
  },
  {
   "cell_type": "code",
   "execution_count": 12,
   "id": "29db3c30-4460-4998-93ed-aec2edb12829",
   "metadata": {},
   "outputs": [
    {
     "name": "stdout",
     "output_type": "stream",
     "text": [
      "60\n"
     ]
    }
   ],
   "source": [
    "num=[10,25,60,45,30,55,70]\n",
    "for i in num:\n",
    "    if i>50:\n",
    "        print(i)\n",
    "        break"
   ]
  },
  {
   "cell_type": "code",
   "execution_count": 13,
   "id": "7f8dda46-cafa-4069-85f5-560f48ea95e7",
   "metadata": {},
   "outputs": [
    {
     "name": "stdin",
     "output_type": "stream",
     "text": [
      "Enter the password secret\n"
     ]
    },
    {
     "name": "stdout",
     "output_type": "stream",
     "text": [
      "Login Successful\n"
     ]
    }
   ],
   "source": [
    "password=input(\"Enter the password\")\n",
    "if password==\"secret\":\n",
    "    print(\"Login Successful\")\n",
    "else:\n",
    "    print(\"Login Unsuccessful\")"
   ]
  },
  {
   "cell_type": "code",
   "execution_count": 1,
   "id": "fa878a12-bd59-48e7-8dc5-cb6881228e0f",
   "metadata": {},
   "outputs": [
    {
     "name": "stdin",
     "output_type": "stream",
     "text": [
      "Enter the password: kjdncjdn\n"
     ]
    },
    {
     "name": "stdout",
     "output_type": "stream",
     "text": [
      "invalid password\n"
     ]
    },
    {
     "name": "stdin",
     "output_type": "stream",
     "text": [
      "Enter the password: secret\n"
     ]
    },
    {
     "name": "stdout",
     "output_type": "stream",
     "text": [
      "login successful\n"
     ]
    }
   ],
   "source": [
    "password=input(\"Enter the password:\")\n",
    "while password!=\"secret\":\n",
    "    print(\"invalid password\")\n",
    "    password=input(\"Enter the password:\")\n",
    "print(\"login successful\")\n"
   ]
  }
 ],
 "metadata": {
  "kernelspec": {
   "display_name": "Python 3 (ipykernel)",
   "language": "python",
   "name": "python3"
  },
  "language_info": {
   "codemirror_mode": {
    "name": "ipython",
    "version": 3
   },
   "file_extension": ".py",
   "mimetype": "text/x-python",
   "name": "python",
   "nbconvert_exporter": "python",
   "pygments_lexer": "ipython3",
   "version": "3.12.6"
  }
 },
 "nbformat": 4,
 "nbformat_minor": 5
}
