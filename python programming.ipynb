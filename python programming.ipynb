{
 "cells": [
  {
   "cell_type": "code",
   "execution_count": 1,
   "id": "f55e84de-76f2-427f-9f64-866495b13e90",
   "metadata": {},
   "outputs": [
    {
     "name": "stdout",
     "output_type": "stream",
     "text": [
      "Debangshini_Bhattacharjee\n",
      "Debangshini_Bhattacharjee\n"
     ]
    }
   ],
   "source": [
    "print(\"Debangshini\", \"Bhattacharjee\",sep='_')\n",
    "print(\"Debangshini\", end='_')\n",
    "print(\"Bhattacharjee\")"
   ]
  },
  {
   "cell_type": "code",
   "execution_count": 3,
   "id": "93e86b52-5439-4f85-a541-eecc0e04bfd9",
   "metadata": {},
   "outputs": [
    {
     "name": "stdout",
     "output_type": "stream",
     "text": [
      "[1, 2, 3, 4, 5, 10]\n",
      "[1, 2, 3, 4, 5, 10, 9, 8, 7]\n",
      "[1, 3, 4, 5, 10, 9, 8, 7]\n",
      "[1, 3, 4, 25, 5, 10, 9, 8, 7]\n"
     ]
    }
   ],
   "source": [
    "list1=[1,2,3,4,5]\n",
    "list1.append(10)\n",
    "print(list1)\n",
    "list1.extend([9,8,7])\n",
    "print(list1)\n",
    "list1.remove(2)\n",
    "print(list1)\n",
    "list1.insert(3,25)\n",
    "print(list1)"
   ]
  },
  {
   "cell_type": "code",
   "execution_count": 4,
   "id": "0708cd0a-36c1-416a-8cdb-49f012367451",
   "metadata": {},
   "outputs": [
    {
     "name": "stdin",
     "output_type": "stream",
     "text": [
      "a: 12\n",
      "b: 23\n"
     ]
    },
    {
     "name": "stdout",
     "output_type": "stream",
     "text": [
      "Sum: 35\n"
     ]
    }
   ],
   "source": [
    "a=int(input(\"a:\"))\n",
    "b=int(input(\"b:\"))\n",
    "print(\"Sum:\",a+b)"
   ]
  },
  {
   "cell_type": "code",
   "execution_count": 5,
   "id": "3acef992-307e-4f81-9598-283dd6fc9afc",
   "metadata": {},
   "outputs": [
    {
     "name": "stdin",
     "output_type": "stream",
     "text": [
      " 23\n"
     ]
    },
    {
     "name": "stdout",
     "output_type": "stream",
     "text": [
      "The no. is odd\n"
     ]
    }
   ],
   "source": [
    "a=int(input())\n",
    "if(a%2==0):\n",
    "    print(\"The no. is even\")\n",
    "else:\n",
    "    print(\"The no. is odd\")"
   ]
  },
  {
   "cell_type": "code",
   "execution_count": 6,
   "id": "9ec628d4-9cce-4bb2-bf17-5b9df230f244",
   "metadata": {},
   "outputs": [
    {
     "name": "stdin",
     "output_type": "stream",
     "text": [
      " 23\n",
      " 45\n"
     ]
    },
    {
     "name": "stdout",
     "output_type": "stream",
     "text": [
      "Area of rectangle: 1035\n"
     ]
    }
   ],
   "source": [
    "l=int(input())\n",
    "b=int(input())\n",
    "print(\"Area of rectangle:\",l*b)"
   ]
  },
  {
   "cell_type": "code",
   "execution_count": 7,
   "id": "4b698217-f9f8-487f-82a7-6321e8909f3d",
   "metadata": {},
   "outputs": [
    {
     "name": "stdout",
     "output_type": "stream",
     "text": [
      "The reminder is: 1\n",
      "Quotient: 3.3333333333333335\n"
     ]
    }
   ],
   "source": [
    "num1=10\n",
    "num2=3\n",
    "print(\"The reminder is:\",num1%num2)\n",
    "print(\"Quotient:\", num1/num2)\n"
   ]
  },
  {
   "cell_type": "code",
   "execution_count": 8,
   "id": "4b91a645-f0b9-4763-acec-987d7661dce4",
   "metadata": {},
   "outputs": [
    {
     "name": "stdin",
     "output_type": "stream",
     "text": [
      "Enter name: Debangshini\n",
      "Age: 19\n"
     ]
    },
    {
     "name": "stdout",
     "output_type": "stream",
     "text": [
      "Hello  Debangshini  Your age next year will be  19  years\n"
     ]
    }
   ],
   "source": [
    "name=input(\"Enter name:\")\n",
    "age=int(input(\"Age:\"))\n",
    "print(\"Hello \",name,\" Your age next year will be \",age,\" years\") "
   ]
  },
  {
   "cell_type": "code",
   "execution_count": 1,
   "id": "71d6b426-5e88-4553-a866-00f3a8a85a38",
   "metadata": {},
   "outputs": [
    {
     "name": "stdout",
     "output_type": "stream",
     "text": [
      "[10, 20, 50, 40, 30]\n"
     ]
    }
   ],
   "source": [
    "arr=[10,20,30,40,50]\n",
    "mid=len(arr)//2\n",
    "arr[mid:]=arr[mid:][::-1]\n",
    "print(arr)"
   ]
  },
  {
   "cell_type": "code",
   "execution_count": 8,
   "id": "9de5a998-f8af-447b-98ff-4b14ec926d3b",
   "metadata": {},
   "outputs": [
    {
     "name": "stdin",
     "output_type": "stream",
     "text": [
      "Enter the size:  3\n",
      "Enter element 1:  1\n",
      "Enter element 2:  2\n",
      "Enter element 3:  3\n"
     ]
    },
    {
     "name": "stdout",
     "output_type": "stream",
     "text": [
      "The median is: 2\n"
     ]
    }
   ],
   "source": [
    "a = []\n",
    "n = int(input(\"Enter the size: \"))\n",
    "for i in range(n):\n",
    "    arr = int(input(f\"Enter element {i + 1}: \"))\n",
    "    a.append(arr)\n",
    "\n",
    "a.sort()  \n",
    "\n",
    "if n % 2 == 0:\n",
    "    med = (a[n // 2 - 1] + a[n // 2]) / 2\n",
    "else:\n",
    "    med = a[n // 2]\n",
    "\n",
    "print(f\"The median is: {med}\")"
   ]
  },
  {
   "cell_type": "code",
   "execution_count": 13,
   "id": "786890a5-a8ac-49c3-ac35-f4ea3a7ceddb",
   "metadata": {},
   "outputs": [
    {
     "name": "stdin",
     "output_type": "stream",
     "text": [
      "Enter the size: 5\n",
      " 11\n",
      " 23\n",
      " 56\n",
      " 20\n",
      " 8\n",
      "Enter the value of k: 3\n"
     ]
    },
    {
     "name": "stdout",
     "output_type": "stream",
     "text": [
      "[8, 11, 23, 56]\n"
     ]
    }
   ],
   "source": [
    "a=[]\n",
    "n=int(input(\"Enter the size:\"))\n",
    "for i in range(n):\n",
    "    arr=int(input())\n",
    "    a.append(arr)\n",
    "a.sort()\n",
    "k=int(input(\"Enter the value of k:\"))\n",
    "a.sort(reverse=True)\n",
    "k_largest=a[k-1]\n",
    "a.remove(k_largest)\n",
    "a.sort()\n",
    "print(a)"
   ]
  },
  {
   "cell_type": "code",
   "execution_count": 5,
   "id": "3ba8fe60-67e9-4d6b-8ba5-54d98e57e92e",
   "metadata": {},
   "outputs": [
    {
     "name": "stdout",
     "output_type": "stream",
     "text": [
      "38000.0\n",
      "36000.0\n",
      "34000.0\n",
      "32000.0\n"
     ]
    }
   ],
   "source": [
    "p = 40000\n",
    "l = [5, 10, 15, 20]\n",
    "\n",
    "for i in l:\n",
    "    d = p - (p * i / 100)  \n",
    "    print(d)"
   ]
  },
  {
   "cell_type": "code",
   "execution_count": 7,
   "id": "7483ff43-1c6c-4a4b-84ed-a0acbf02120c",
   "metadata": {},
   "outputs": [
    {
     "name": "stdout",
     "output_type": "stream",
     "text": [
      "5\n",
      "10\n",
      "15\n",
      "20\n",
      "25\n",
      "30\n",
      "35\n",
      "40\n",
      "45\n",
      "50\n"
     ]
    }
   ],
   "source": [
    "for i in range(1,11):\n",
    "    print(5*i)"
   ]
  },
  {
   "cell_type": "code",
   "execution_count": 8,
   "id": "66f97f55-55bc-441b-ba47-f0cff595b542",
   "metadata": {},
   "outputs": [
    {
     "name": "stdout",
     "output_type": "stream",
     "text": [
      "2\n",
      "4\n",
      "6\n",
      "8\n",
      "10\n"
     ]
    }
   ],
   "source": [
    "for i in range(2,11):\n",
    "    if i%2==0:\n",
    "        print(i)"
   ]
  },
  {
   "cell_type": "code",
   "execution_count": 1,
   "id": "8229f1ad-b555-47b6-a48b-4b6db64a1537",
   "metadata": {},
   "outputs": [
    {
     "name": "stdin",
     "output_type": "stream",
     "text": [
      "a: 12\n",
      "b: 34\n"
     ]
    },
    {
     "data": {
      "text/plain": [
       "46"
      ]
     },
     "execution_count": 1,
     "metadata": {},
     "output_type": "execute_result"
    }
   ],
   "source": [
    "def add(a,b):\n",
    "    return a+b\n",
    "a=int(input(\"a:\"))\n",
    "b=int(input(\"b:\"))\n",
    "add(a,b)"
   ]
  },
  {
   "cell_type": "code",
   "execution_count": 2,
   "id": "47eb6d4f-3e6a-4e3e-9baa-3e551fc1ce48",
   "metadata": {},
   "outputs": [
    {
     "name": "stdin",
     "output_type": "stream",
     "text": [
      "a: 45\n",
      "b: 34\n"
     ]
    },
    {
     "data": {
      "text/plain": [
       "11"
      ]
     },
     "execution_count": 2,
     "metadata": {},
     "output_type": "execute_result"
    }
   ],
   "source": [
    "def sub(a,b):\n",
    "    return a-b\n",
    "a=int(input(\"a:\"))\n",
    "b=int(input(\"b:\"))\n",
    "sub(a,b)"
   ]
  },
  {
   "cell_type": "code",
   "execution_count": 3,
   "id": "ded7aabb-8cd6-487f-88e1-b73b5c7dd06c",
   "metadata": {},
   "outputs": [
    {
     "name": "stdin",
     "output_type": "stream",
     "text": [
      "a: 78\n",
      "b: 45\n"
     ]
    },
    {
     "data": {
      "text/plain": [
       "3510"
      ]
     },
     "execution_count": 3,
     "metadata": {},
     "output_type": "execute_result"
    }
   ],
   "source": [
    "def mul(a,b):\n",
    "    return a*b\n",
    "a=int(input(\"a:\"))\n",
    "b=int(input(\"b:\"))\n",
    "mul(a,b)"
   ]
  },
  {
   "cell_type": "code",
   "execution_count": 4,
   "id": "fb05314b-22f4-4fa4-ac10-63102bd96295",
   "metadata": {},
   "outputs": [
    {
     "name": "stdin",
     "output_type": "stream",
     "text": [
      "a: 45\n",
      "b: 5\n"
     ]
    },
    {
     "data": {
      "text/plain": [
       "9.0"
      ]
     },
     "execution_count": 4,
     "metadata": {},
     "output_type": "execute_result"
    }
   ],
   "source": [
    "def div(a,b):\n",
    "    return a/b\n",
    "a=int(input(\"a:\"))\n",
    "b=int(input(\"b:\"))\n",
    "div(a,b)"
   ]
  },
  {
   "cell_type": "code",
   "execution_count": 5,
   "id": "d538e446-3112-4277-b96e-b058da4827bb",
   "metadata": {},
   "outputs": [
    {
     "name": "stdin",
     "output_type": "stream",
     "text": [
      "a: 34\n",
      "b: 2\n"
     ]
    },
    {
     "data": {
      "text/plain": [
       "1156"
      ]
     },
     "execution_count": 5,
     "metadata": {},
     "output_type": "execute_result"
    }
   ],
   "source": [
    "def expo(a,b):\n",
    "    return a**b\n",
    "a=int(input(\"a:\"))\n",
    "b=int(input(\"b:\"))\n",
    "expo(a,b)"
   ]
  },
  {
   "cell_type": "code",
   "execution_count": 7,
   "id": "4b471238-226f-4def-8ae7-a689f64f9414",
   "metadata": {},
   "outputs": [
    {
     "name": "stdin",
     "output_type": "stream",
     "text": [
      "a: 9\n"
     ]
    },
    {
     "data": {
      "text/plain": [
       "3.0"
      ]
     },
     "execution_count": 7,
     "metadata": {},
     "output_type": "execute_result"
    }
   ],
   "source": [
    "def square_root(a):\n",
    "    return a**(1/2)\n",
    "a=int(input(\"a:\"))\n",
    "square_root(a)"
   ]
  },
  {
   "cell_type": "code",
   "execution_count": 15,
   "id": "6920af8b-4b26-4e3d-8c33-7e26cc8f29c9",
   "metadata": {},
   "outputs": [
    {
     "name": "stdin",
     "output_type": "stream",
     "text": [
      "a: 26\n",
      "b: 5\n"
     ]
    },
    {
     "data": {
      "text/plain": [
       "1"
      ]
     },
     "execution_count": 15,
     "metadata": {},
     "output_type": "execute_result"
    }
   ],
   "source": [
    "def reminder(a,b):\n",
    "    return a%b\n",
    "a=int(input(\"a:\"))\n",
    "b=int(input(\"b:\"))\n",
    "reminder(a,b)"
   ]
  },
  {
   "cell_type": "code",
   "execution_count": 16,
   "id": "05935436-d9db-4925-a46b-5ed08f439eac",
   "metadata": {},
   "outputs": [
    {
     "name": "stdout",
     "output_type": "stream",
     "text": [
      "[38000.0, 36000.0, 34000.0, 32000.0]\n"
     ]
    }
   ],
   "source": [
    "def discount():\n",
    "    price = 40000\n",
    "    dis = [0.05, 0.1, 0.15, 0.2]\n",
    "    l = []\n",
    "    \n",
    "    for disc in dis:\n",
    "        l.append(price - (price * disc)) \n",
    "    \n",
    "    print(l)\n",
    "\n",
    "discount()\n"
   ]
  },
  {
   "cell_type": "code",
   "execution_count": 18,
   "id": "84a31ccb-1d45-4f58-80c2-43a0861bc6c1",
   "metadata": {},
   "outputs": [
    {
     "name": "stdin",
     "output_type": "stream",
     "text": [
      "a: 2\n"
     ]
    },
    {
     "data": {
      "text/plain": [
       "True"
      ]
     },
     "execution_count": 18,
     "metadata": {},
     "output_type": "execute_result"
    }
   ],
   "source": [
    "def odd_even(a):\n",
    "    if a%2==0:\n",
    "        return True\n",
    "    else:\n",
    "        return False\n",
    "a=int(input(\"a:\"))\n",
    "odd_even(a)"
   ]
  },
  {
   "cell_type": "code",
   "execution_count": 21,
   "id": "46fd8a0c-c9f6-4649-a223-df4efd667551",
   "metadata": {},
   "outputs": [
    {
     "name": "stdin",
     "output_type": "stream",
     "text": [
      "n: 6\n"
     ]
    },
    {
     "data": {
      "text/plain": [
       "720"
      ]
     },
     "execution_count": 21,
     "metadata": {},
     "output_type": "execute_result"
    }
   ],
   "source": [
    "def fact(n):\n",
    "    if n == 0 or n == 1:  \n",
    "        return 1\n",
    "    return  n * fact(n-1)\n",
    "n=int(input(\"n:\"))\n",
    "fact(n)"
   ]
  },
  {
   "cell_type": "code",
   "execution_count": 23,
   "id": "e8bbed59-d00d-4e7a-a5d9-b1e2ce865fe8",
   "metadata": {},
   "outputs": [
    {
     "name": "stdout",
     "output_type": "stream",
     "text": [
      "[1, 4, 9, 16, 25]\n"
     ]
    }
   ],
   "source": [
    "l=[1,2,3,4,5]\n",
    "l1=[]\n",
    "for i in l:\n",
    "    l1.append(i**2)\n",
    "print(l1)"
   ]
  },
  {
   "cell_type": "code",
   "execution_count": 24,
   "id": "0286a865-2eba-4ff2-811c-b9a2e496b3b4",
   "metadata": {},
   "outputs": [
    {
     "name": "stdin",
     "output_type": "stream",
     "text": [
      "Enter base:  45\n",
      "Enter exponent:  4\n"
     ]
    },
    {
     "name": "stdout",
     "output_type": "stream",
     "text": [
      "45^4 = 4100625\n"
     ]
    }
   ],
   "source": [
    "def power(a, b):\n",
    "    if b == 0:\n",
    "        return 1\n",
    "    return a * power(a, b - 1)\n",
    "\n",
    "a = int(input(\"Enter base: \"))\n",
    "b = int(input(\"Enter exponent: \"))\n",
    "print(f\"{a}^{b} = {power(a, b)}\")\n"
   ]
  },
  {
   "cell_type": "code",
   "execution_count": 25,
   "id": "104c9f0d-eeef-487a-aaf3-c95285cea00d",
   "metadata": {},
   "outputs": [
    {
     "name": "stdout",
     "output_type": "stream",
     "text": [
      "[1, 4, 9, 16, 25, 36, 49, 64, 81, 100, 121, 144, 169, 196, 225, 256, 289, 324, 361, 400, 441, 484, 529, 576, 625, 676, 729, 784, 841, 900]\n"
     ]
    }
   ],
   "source": [
    "def square_list():\n",
    "    squares = [x**2 for x in range(1, 31)]\n",
    "    print(squares)\n",
    "\n",
    "square_list()"
   ]
  },
  {
   "cell_type": "code",
   "execution_count": 26,
   "id": "2f1da0bd-7e9b-4e88-8c76-93bf623b70d6",
   "metadata": {},
   "outputs": [
    {
     "name": "stdout",
     "output_type": "stream",
     "text": [
      "defaultdict(<class 'set'>, {'Class-V': {1}, 'Class-VI': {2}, 'Class-VII': {2}, 'Class-VIII': {3}})\n"
     ]
    }
   ],
   "source": [
    "from collections import defaultdict\n",
    "\n",
    "def create_dict(keys, values):\n",
    "    result = defaultdict(set)\n",
    "    for k, v in zip(keys, values):\n",
    "        result[k].add(v)\n",
    "    return result\n",
    "keys = ['Class-V', 'Class-VI', 'Class-VII', 'Class-VIII']\n",
    "values = [1, 2, 2, 3]\n",
    "\n",
    "output = create_dict(keys, values)\n",
    "print(output)\n"
   ]
  }
 ],
 "metadata": {
  "kernelspec": {
   "display_name": "Python 3 (ipykernel)",
   "language": "python",
   "name": "python3"
  },
  "language_info": {
   "codemirror_mode": {
    "name": "ipython",
    "version": 3
   },
   "file_extension": ".py",
   "mimetype": "text/x-python",
   "name": "python",
   "nbconvert_exporter": "python",
   "pygments_lexer": "ipython3",
   "version": "3.12.6"
  }
 },
 "nbformat": 4,
 "nbformat_minor": 5
}
